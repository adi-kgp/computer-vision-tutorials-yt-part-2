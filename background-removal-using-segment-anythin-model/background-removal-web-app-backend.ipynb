{
 "cells": [
  {
   "cell_type": "code",
   "execution_count": null,
   "id": "8ec700a3-877d-48a4-a1a8-4ba35dcade4f",
   "metadata": {},
   "outputs": [],
   "source": [
    "%matplotlib ipympl\n",
    "from segment_anything import SamPredictor, sam_model_registry\n",
    "import os\n",
    "import cv2\n",
    "import numpy as np\n",
    "import matplotlib.pyplot as plt\n",
    "import base64\n",
    "\n",
    "# create sam predictor\n",
    "model_path = 'sam_vit_b_01ec64.pth'\n",
    "if not os.path.exists(model_path):\n",
    "    model_path = 'https://dl.fbaipublicfiles.com/segment_anything/sam_vit_b_01ec64.pth'\n",
    "\n",
    "sam = sam_model_registry[\"vit_b\"](checkpoint=model_path)\n",
    "predictor = SamPredictor(sam)\n",
    "\n",
    "# load image and select x, y coordinates to test\n",
    "image_path = 'data/test.jpg'\n",
    "\n",
    "x = 985\n",
    "y = 518\n",
    "\n",
    "image = cv2.imread(image_path)\n",
    "\n",
    "_, image_bytes = cv2.imencode('.png', image)\n",
    "\n",
    "image_bytes = image_bytes.tobytes()\n",
    "\n",
    "image_bytes_encoded_base64 = base64.b64encode(image_bytes).decode('utf-8')"
   ]
  },
  {
   "cell_type": "code",
   "execution_count": null,
   "id": "1572fc28-b071-4351-bd89-80a028018a6d",
   "metadata": {},
   "outputs": [],
   "source": [
    "# wrap it up as a function\n",
    "def remove_background(image_base64_encoding, x, y):\n",
    "    \n",
    "    image_bytes = base64.b64decode(image_base64_encoding)\n",
    "    \n",
    "    image = cv2.imdecode(np.frombuffer(image_bytes, dtype=np.uint8), cv2.IMREAD_COLOR)\n",
    "    predictor.set_image(image)\n",
    "    \n",
    "    masks, scores, logits = predictor.predict(\n",
    "                                        point_coords = np.asarray([[x,y]]),\n",
    "                                        point_labels = np.asarray([1]),\n",
    "                                        multimask_output=True\n",
    "                                        )\n",
    "    C, H, W = masks.shape\n",
    "    result_mask = np.zeros((H,W), dtype=bool)\n",
    "    \n",
    "    for j in range(C):\n",
    "        result_mask |= masks[j,:,:]   \n",
    "        \n",
    "    result_mask = result_mask.astype(np.uint8)\n",
    "\n",
    "    alpha_channel = np.ones(result_mask.shape, dtype=result_mask.dtype) * 255\n",
    "    \n",
    "    alpha_channel[result_mask == 0] = 0\n",
    "    \n",
    "    result_image = cv2.merge((image, alpha_channel))\n",
    "    \n",
    "    _, result_image_bytes = cv2.imencode('.png', result_image)\n",
    "    \n",
    "    result_image_bytes = result_image_bytes.tobytes()\n",
    "    \n",
    "    result_image_bytes_encoded_base64 = base64.b64encode(result_image_bytes).decode('utf-8')\n",
    "    \n",
    "    return result_image_bytes_encoded_base64"
   ]
  },
  {
   "cell_type": "code",
   "execution_count": null,
   "id": "c6b2cc7d-c6ad-4398-8314-d9bf9a8c7ac9",
   "metadata": {},
   "outputs": [],
   "source": [
    "result_image = remove_background(image_bytes_encoded_base64, x, y)\n",
    "\n",
    "result_image_bytes = base64.b64decode(result_image)\n",
    "\n",
    "result_image = cv2.imdecode(np.frombuffer(result_image_bytes, dtype=np.uint8), cv2.IMREAD_UNCHANGED)\n",
    "\n",
    "plt.imshow(cv2.cvtColor(result_image, cv2.COLOR_BGRA2RGBA))\n",
    "plt.show()"
   ]
  },
  {
   "cell_type": "code",
   "execution_count": 3,
   "id": "7663af43-17cf-4076-a43e-01aeb1512e63",
   "metadata": {},
   "outputs": [
    {
     "name": "stdout",
     "output_type": "stream",
     "text": [
      "module://matplotlib_inline.backend_inline\n"
     ]
    }
   ],
   "source": [
    "print(plt.get_backend()) "
   ]
  },
  {
   "cell_type": "code",
   "execution_count": null,
   "id": "7903b1c9-e837-4dd5-a2e0-43c19f19af43",
   "metadata": {},
   "outputs": [],
   "source": []
  }
 ],
 "metadata": {
  "kernelspec": {
   "display_name": "Python 3 (ipykernel)",
   "language": "python",
   "name": "python3"
  },
  "language_info": {
   "codemirror_mode": {
    "name": "ipython",
    "version": 3
   },
   "file_extension": ".py",
   "mimetype": "text/x-python",
   "name": "python",
   "nbconvert_exporter": "python",
   "pygments_lexer": "ipython3",
   "version": "3.10.12"
  }
 },
 "nbformat": 4,
 "nbformat_minor": 5
}
